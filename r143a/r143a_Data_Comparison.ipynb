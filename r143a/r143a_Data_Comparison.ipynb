{
 "cells": [
  {
   "cell_type": "code",
   "execution_count": 1,
   "id": "2db74834",
   "metadata": {},
   "outputs": [
    {
     "ename": "ModuleNotFoundError",
     "evalue": "No module named 'numpy'",
     "output_type": "error",
     "traceback": [
      "\u001b[0;31m---------------------------------------------------------------------------\u001b[0m",
      "\u001b[0;31mModuleNotFoundError\u001b[0m                       Traceback (most recent call last)",
      "\u001b[0;32m<ipython-input-1-13733113486a>\u001b[0m in \u001b[0;36m<module>\u001b[0;34m\u001b[0m\n\u001b[0;32m----> 1\u001b[0;31m \u001b[0;32mimport\u001b[0m \u001b[0mnumpy\u001b[0m \u001b[0;32mas\u001b[0m \u001b[0mnp\u001b[0m\u001b[0;34m\u001b[0m\u001b[0;34m\u001b[0m\u001b[0m\n\u001b[0m\u001b[1;32m      2\u001b[0m \u001b[0;31m# T_Lemmon = np.\u001b[0m\u001b[0;34m\u001b[0m\u001b[0;34m\u001b[0m\u001b[0;34m\u001b[0m\u001b[0m\n\u001b[1;32m      3\u001b[0m \u001b[0;31m# T_Srinivasan =\u001b[0m\u001b[0;34m\u001b[0m\u001b[0;34m\u001b[0m\u001b[0;34m\u001b[0m\u001b[0m\n\u001b[1;32m      4\u001b[0m \u001b[0;31m# data_Lemmon =\u001b[0m\u001b[0;34m\u001b[0m\u001b[0;34m\u001b[0m\u001b[0;34m\u001b[0m\u001b[0m\n\u001b[1;32m      5\u001b[0m \u001b[0;31m# data_Srinivasan =\u001b[0m\u001b[0;34m\u001b[0m\u001b[0;34m\u001b[0m\u001b[0;34m\u001b[0m\u001b[0m\n",
      "\u001b[0;31mModuleNotFoundError\u001b[0m: No module named 'numpy'"
     ]
    }
   ],
   "source": [
    "import numpy as np\n",
    "import matplotlib.pyplot as plt\n",
    "\n",
    "T_Lemmon = np.array([-31.774,-13.331, 6.281, 26.157, 47.894])\n",
    "T_Lemmon = T_Lemmon + 273.15\n",
    "data_Lemmon = np.array([369.92 -154.56, 380.7-180.46,390.88-209.50,398.92-241.11, 402.59-279.78])\n",
    "\n",
    "T_Srinivasan = np.linspace(240,320,5)\n",
    "data_Srinivasan  = np.array([221.54, 205.2, 186.23, 163.13, 132.30])\n",
    "\n",
    "data_NIST_vap = np.array([369.08,380.8,391.15,399.14,402.62])\n",
    "data_NIST_liq = np.array([152.68,180.72,210.37,242.26,277.77])\n",
    "data_NIST = data_NIST_vap-data_NIST_liq\n",
    "\n",
    "#Evaluated Integrals based on PVT experimental data by Mears et a, Arnaud et. Al \n",
    "#Paper is kind of bad\n",
    "T_Candau = np.array([-30,-10, 10, 30, 50]) +273.15\n",
    "data_Candau_vap = np.array([369.06,379.93,389.41,396.57,398.88])\n",
    "data_Candau_liq = np.array([157.43,185.47,214.93,246.37,281.42])\n",
    "data_Candau = data_Candau_vap-data_Candau_liq\n",
    "\n",
    "plt.figure()\n",
    "plt.scatter(T_Srinivasan,data_Srinivasan, label = \"Srinivasan\")\n",
    "plt.plot(T_Lemmon,data_Lemmon, label = \"EOS\", color = \"orange\")\n",
    "plt.scatter(T_Srinivasan,data_NIST, label = \"NIST\", color = \"red\")\n",
    "plt.scatter(T_Candau,data_Candau, label = \"Candau\", color = \"green\")\n",
    "plt.xlabel(\"Temperature (K)\")\n",
    "plt.legend(loc = \"best\")\n",
    "plt.ylabel(\"Hvap (kJ/kg)\")\n",
    "plt.show()"
   ]
  },
  {
   "cell_type": "code",
   "execution_count": null,
   "id": "7b00f67b",
   "metadata": {},
   "outputs": [],
   "source": []
  }
 ],
 "metadata": {
  "kernelspec": {
   "display_name": "Python 3",
   "language": "python",
   "name": "python3"
  },
  "language_info": {
   "codemirror_mode": {
    "name": "ipython",
    "version": 3
   },
   "file_extension": ".py",
   "mimetype": "text/x-python",
   "name": "python",
   "nbconvert_exporter": "python",
   "pygments_lexer": "ipython3",
   "version": "3.8.5"
  }
 },
 "nbformat": 4,
 "nbformat_minor": 5
}
