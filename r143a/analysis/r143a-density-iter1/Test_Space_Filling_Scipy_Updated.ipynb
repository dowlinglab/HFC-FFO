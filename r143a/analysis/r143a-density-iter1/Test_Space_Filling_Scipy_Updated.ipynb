{
 "cells": [
  {
   "cell_type": "code",
   "execution_count": 1,
   "id": "a90c753b",
   "metadata": {},
   "outputs": [],
   "source": [
    "import numpy as np\n",
    "import pandas as pd\n",
    "import scipy.optimize as optimize\n",
    "from fffit.utils import (\n",
    "    shuffle_and_split,\n",
    "    values_scaled_to_real,\n",
    ")\n",
    "import sys\n",
    "sys.path.append(\"../\")\n",
    "\n",
    "\n",
    "from utils.r143a import R143aConstants\n",
    "R143a = R143aConstants()"
   ]
  },
  {
   "cell_type": "code",
   "execution_count": 2,
   "id": "8cb728e1",
   "metadata": {},
   "outputs": [],
   "source": [
    "# top_liq = pd.read_csv(\"../csv/r143a-density-iter1-liquid-params.csv\", delimiter = \",\", index_col = 0)\n",
    "# top_vap = pd.read_csv(\"../csv/r143a-density-iter1-vapor-params.csv\", delimiter = \",\", index_col = 0)"
   ]
  },
  {
   "cell_type": "code",
   "execution_count": 3,
   "id": "0b5a1163",
   "metadata": {},
   "outputs": [],
   "source": [
    "iternum = 2\n",
    "csv_path = \"/scratch365/mcarlozo/HFC_143a_FFO_FF/r143a/analysis/csv/\"\n",
    "in_csv_name = \"r143a-density-iter\" + str(iternum) + \"-results.csv\"\n",
    "out_csv_name = \"r143a-density-iter\" + str(iternum + 1) + \"-params.csv\"\n",
    "out_top_liquid_csv_name = \"r143a-density-iter\" + str(iternum ) + \"-liquid-params.csv\"\n",
    "out_top_vapor_csv_name = \"r143a-density-iter\" + str(iternum ) + \"-vapor-params.csv\"\n",
    "\n",
    "top_liq = pd.read_csv(csv_path + out_top_liquid_csv_name, delimiter = \",\", index_col = 0)\n",
    "top_vap = pd.read_csv(csv_path + out_top_vapor_csv_name, delimiter = \",\", index_col = 0)"
   ]
  },
  {
   "cell_type": "code",
   "execution_count": 4,
   "id": "61e62d2b",
   "metadata": {},
   "outputs": [],
   "source": [
    "top_liq = top_liq.reset_index(drop=True)\n",
    "top_vap = top_vap.reset_index(drop=True)\n",
    "# print(len(top_vap))\n",
    "# print(len(top_liq))\n",
    "\n",
    "dist_guess = 1\n",
    "dist_guess_l = 1\n",
    "dist_guess_v = 0.8\n",
    "\n",
    "dist_seed = 115\n",
    "bounds = [(0.000001,None)]\n",
    "target_num = 100"
   ]
  },
  {
   "cell_type": "code",
   "execution_count": 5,
   "id": "6e54daf2",
   "metadata": {},
   "outputs": [],
   "source": [
    "# print(top_liq)"
   ]
  },
  {
   "cell_type": "code",
   "execution_count": 6,
   "id": "c354ff20",
   "metadata": {},
   "outputs": [],
   "source": [
    "def opt_dist(distance, top_samples, constants, target_num, rand_seed = None, eval = False):\n",
    "    \"\"\"\n",
    "    Calculates the distance between points such that exactly a target number of points are chosen for the next iteration\n",
    "    \n",
    "    Parameters:\n",
    "    -----------\n",
    "        distance: float, The allowable minimum distance between points\n",
    "        top_samples: pandas data frame, Collection of top liquid/vapor sampes\n",
    "        constants: utils.r143a.R143aConstants, contains the infromation for a certain refrigerant\n",
    "        target_num: int, the number of samples to choose next\n",
    "        rand_seed: int, the seed number to use: None by default\n",
    "        eval: bool, Determines whether error is calculated or new_points is returned\n",
    "    \n",
    "    Returns:\n",
    "        error: float, The squared error between the target value and number of new_points\n",
    "        OR\n",
    "        new_points: pandas data frame, a pandas data frame containing the number of points to be used \n",
    "    \"\"\"\n",
    "    if len(top_samples) <= target_num:\n",
    "        print(\"Trying dist =\", distance)\n",
    "        \n",
    "    top_samp0 = top_samples\n",
    "    if rand_seed != None:\n",
    "        np.random.seed(rand_seed)\n",
    "    new_points = pd.DataFrame()\n",
    "    discarded_points = pd.DataFrame(columns=top_samples.columns)\n",
    "    while len(top_samples > 0):\n",
    "        # Shuffle the pareto points\n",
    "        top_samples = top_samples.sample(frac=1)\n",
    "        new_points = new_points.append(top_samples.iloc[[0]])\n",
    "        # Remove anything within distance\n",
    "        l1_norm = np.sum(\n",
    "            np.abs(\n",
    "                top_samples[list(constants.param_names)].values\n",
    "                - new_points[list(constants.param_names)].iloc[[-1]].values\n",
    "            ),\n",
    "            axis=1,\n",
    "        )\n",
    "        points_to_remove = np.where(l1_norm < distance)[0]\n",
    "        discarded_points = discarded_points.append(\n",
    "            top_samples.iloc[points_to_remove]\n",
    "        )\n",
    "        top_samples.drop(\n",
    "            index=top_samples.index[points_to_remove], inplace=True\n",
    "        )\n",
    "    error = target_num - len(new_points)\n",
    "    \n",
    "#     print(\"Error = \",error)\n",
    "#     return error\n",
    "    if eval == True:\n",
    "        return new_points\n",
    "    else:\n",
    "        return error"
   ]
  },
  {
   "cell_type": "code",
   "execution_count": 7,
   "id": "1d8d325f",
   "metadata": {},
   "outputs": [
    {
     "name": "stderr",
     "output_type": "stream",
     "text": [
      "/afs/crc.nd.edu/user/m/mcarlozo/.conda/envs/hfcs-fffit/lib/python3.7/site-packages/scipy/optimize/nonlin.py:1016: RuntimeWarning: divide by zero encountered in true_divide\n",
      "  d = v / vdot(df, v)\n"
     ]
    },
    {
     "name": "stdout",
     "output_type": "stream",
     "text": [
      "Optimal Liquid Distance: 1.2863865224930684\n"
     ]
    }
   ],
   "source": [
    "args_l = (top_liq ,R143a, target_num, dist_seed)\n",
    "solution_l = optimize.root(opt_dist, dist_guess_l, args = args_l, method = \"broyden1\", options={'maxiter': 50})\n",
    "dist_opt_l = solution_l.x\n",
    "new_points_l = opt_dist(dist_opt_l, top_liq, R143a, target_num, rand_seed=dist_seed , eval = True)\n",
    "\n",
    "while int(len(new_points_l)) != int(target_num):\n",
    "    dist_guess_l = dist_opt_l\n",
    "    solution_l = optimize.root(opt_dist, dist_guess_l, args = args_l, method = \"broyden1\", options={'maxiter': 50})\n",
    "    dist_opt_l = solution_l.x\n",
    "    new_points_l = opt_dist(dist_opt_l, top_liq, R143a, target_num, rand_seed=dist_seed , eval = True)\n",
    "    dist_seed += 1\n",
    "    print(\"Trying seed\", dist_seed)\n",
    "    \n",
    "print(\"Optimal Liquid Distance:\",dist_opt_l)"
   ]
  },
  {
   "cell_type": "code",
   "execution_count": 8,
   "id": "303615bb",
   "metadata": {},
   "outputs": [
    {
     "name": "stdout",
     "output_type": "stream",
     "text": [
      "Trying dist = 0.8\n",
      "Trying dist = 1.3\n",
      "Trying dist = 0.8806279530559367\n",
      "Trying dist = 0.8172457699001667\n",
      "Trying dist = 0.811016020973718\n",
      "Trying dist = 0.8094396727734201\n",
      "Trying dist = 0.8042596728318604\n",
      "Trying dist = 0.8021298364159303\n",
      "Trying dist = 1.3\n",
      "Trying dist = 0.14285714285714302\n",
      "Trying dist = -0.0017857142857141128\n"
     ]
    },
    {
     "ename": "KeyboardInterrupt",
     "evalue": "",
     "output_type": "error",
     "traceback": [
      "\u001b[0;31m---------------------------------------------------------------------------\u001b[0m",
      "\u001b[0;31mKeyboardInterrupt\u001b[0m                         Traceback (most recent call last)",
      "\u001b[0;32m/tmp/ipykernel_2309234/2920650089.py\u001b[0m in \u001b[0;36m<module>\u001b[0;34m\u001b[0m\n\u001b[1;32m      1\u001b[0m \u001b[0margs_v\u001b[0m \u001b[0;34m=\u001b[0m \u001b[0;34m(\u001b[0m\u001b[0mtop_vap\u001b[0m \u001b[0;34m,\u001b[0m\u001b[0mR143a\u001b[0m\u001b[0;34m,\u001b[0m \u001b[0mtarget_num\u001b[0m\u001b[0;34m,\u001b[0m \u001b[0mdist_seed\u001b[0m\u001b[0;34m)\u001b[0m\u001b[0;34m\u001b[0m\u001b[0;34m\u001b[0m\u001b[0m\n\u001b[0;32m----> 2\u001b[0;31m \u001b[0msolution_v\u001b[0m \u001b[0;34m=\u001b[0m \u001b[0moptimize\u001b[0m\u001b[0;34m.\u001b[0m\u001b[0mroot\u001b[0m\u001b[0;34m(\u001b[0m\u001b[0mopt_dist\u001b[0m\u001b[0;34m,\u001b[0m \u001b[0mdist_guess_v\u001b[0m\u001b[0;34m,\u001b[0m \u001b[0margs\u001b[0m \u001b[0;34m=\u001b[0m \u001b[0margs_v\u001b[0m\u001b[0;34m,\u001b[0m \u001b[0mmethod\u001b[0m \u001b[0;34m=\u001b[0m \u001b[0;34m\"broyden1\"\u001b[0m\u001b[0;34m,\u001b[0m \u001b[0moptions\u001b[0m\u001b[0;34m=\u001b[0m\u001b[0;34m{\u001b[0m\u001b[0;34m\"maxiter\"\u001b[0m\u001b[0;34m:\u001b[0m \u001b[0;36m50\u001b[0m\u001b[0;34m}\u001b[0m\u001b[0;34m)\u001b[0m\u001b[0;34m\u001b[0m\u001b[0;34m\u001b[0m\u001b[0m\n\u001b[0m\u001b[1;32m      3\u001b[0m \u001b[0mdist_opt_v\u001b[0m \u001b[0;34m=\u001b[0m \u001b[0msolution_v\u001b[0m\u001b[0;34m.\u001b[0m\u001b[0mx\u001b[0m\u001b[0;34m\u001b[0m\u001b[0;34m\u001b[0m\u001b[0m\n\u001b[1;32m      4\u001b[0m \u001b[0mnew_points_v\u001b[0m \u001b[0;34m=\u001b[0m \u001b[0mopt_dist\u001b[0m\u001b[0;34m(\u001b[0m\u001b[0mdist_opt_v\u001b[0m\u001b[0;34m,\u001b[0m \u001b[0mtop_vap\u001b[0m\u001b[0;34m,\u001b[0m \u001b[0mR143a\u001b[0m\u001b[0;34m,\u001b[0m \u001b[0mtarget_num\u001b[0m\u001b[0;34m,\u001b[0m \u001b[0mrand_seed\u001b[0m\u001b[0;34m=\u001b[0m\u001b[0mdist_seed\u001b[0m \u001b[0;34m,\u001b[0m \u001b[0meval\u001b[0m \u001b[0;34m=\u001b[0m \u001b[0;32mTrue\u001b[0m\u001b[0;34m)\u001b[0m\u001b[0;34m\u001b[0m\u001b[0;34m\u001b[0m\u001b[0m\n\u001b[1;32m      5\u001b[0m \u001b[0;34m\u001b[0m\u001b[0m\n",
      "\u001b[0;32m~/.conda/envs/hfcs-fffit/lib/python3.7/site-packages/scipy/optimize/_root.py\u001b[0m in \u001b[0;36mroot\u001b[0;34m(fun, x0, args, method, jac, tol, callback, options)\u001b[0m\n\u001b[1;32m    197\u001b[0m         sol = _root_nonlin_solve(fun, x0, args=args, jac=jac,\n\u001b[1;32m    198\u001b[0m                                  \u001b[0m_method\u001b[0m\u001b[0;34m=\u001b[0m\u001b[0mmeth\u001b[0m\u001b[0;34m,\u001b[0m \u001b[0m_callback\u001b[0m\u001b[0;34m=\u001b[0m\u001b[0mcallback\u001b[0m\u001b[0;34m,\u001b[0m\u001b[0;34m\u001b[0m\u001b[0;34m\u001b[0m\u001b[0m\n\u001b[0;32m--> 199\u001b[0;31m                                  **options)\n\u001b[0m\u001b[1;32m    200\u001b[0m     \u001b[0;32melse\u001b[0m\u001b[0;34m:\u001b[0m\u001b[0;34m\u001b[0m\u001b[0;34m\u001b[0m\u001b[0m\n\u001b[1;32m    201\u001b[0m         \u001b[0;32mraise\u001b[0m \u001b[0mValueError\u001b[0m\u001b[0;34m(\u001b[0m\u001b[0;34m'Unknown solver %s'\u001b[0m \u001b[0;34m%\u001b[0m \u001b[0mmethod\u001b[0m\u001b[0;34m)\u001b[0m\u001b[0;34m\u001b[0m\u001b[0;34m\u001b[0m\u001b[0m\n",
      "\u001b[0;32m~/.conda/envs/hfcs-fffit/lib/python3.7/site-packages/scipy/optimize/_root.py\u001b[0m in \u001b[0;36m_root_nonlin_solve\u001b[0;34m(fun, x0, args, jac, _callback, _method, nit, disp, maxiter, ftol, fatol, xtol, xatol, tol_norm, line_search, jac_options, **unknown_options)\u001b[0m\n\u001b[1;32m    300\u001b[0m                                   \u001b[0mline_search\u001b[0m\u001b[0;34m=\u001b[0m\u001b[0mline_search\u001b[0m\u001b[0;34m,\u001b[0m\u001b[0;34m\u001b[0m\u001b[0;34m\u001b[0m\u001b[0m\n\u001b[1;32m    301\u001b[0m                                   \u001b[0mcallback\u001b[0m\u001b[0;34m=\u001b[0m\u001b[0m_callback\u001b[0m\u001b[0;34m,\u001b[0m \u001b[0mfull_output\u001b[0m\u001b[0;34m=\u001b[0m\u001b[0;32mTrue\u001b[0m\u001b[0;34m,\u001b[0m\u001b[0;34m\u001b[0m\u001b[0;34m\u001b[0m\u001b[0m\n\u001b[0;32m--> 302\u001b[0;31m                                   raise_exception=False)\n\u001b[0m\u001b[1;32m    303\u001b[0m     \u001b[0msol\u001b[0m \u001b[0;34m=\u001b[0m \u001b[0mOptimizeResult\u001b[0m\u001b[0;34m(\u001b[0m\u001b[0mx\u001b[0m\u001b[0;34m=\u001b[0m\u001b[0mx\u001b[0m\u001b[0;34m)\u001b[0m\u001b[0;34m\u001b[0m\u001b[0;34m\u001b[0m\u001b[0m\n\u001b[1;32m    304\u001b[0m     \u001b[0msol\u001b[0m\u001b[0;34m.\u001b[0m\u001b[0mupdate\u001b[0m\u001b[0;34m(\u001b[0m\u001b[0minfo\u001b[0m\u001b[0;34m)\u001b[0m\u001b[0;34m\u001b[0m\u001b[0;34m\u001b[0m\u001b[0m\n",
      "\u001b[0;32m~/.conda/envs/hfcs-fffit/lib/python3.7/site-packages/scipy/optimize/nonlin.py\u001b[0m in \u001b[0;36mnonlin_solve\u001b[0;34m(F, x0, jacobian, iter, verbose, maxiter, f_tol, f_rtol, x_tol, x_rtol, tol_norm, line_search, callback, full_output, raise_exception)\u001b[0m\n\u001b[1;32m    317\u001b[0m         \u001b[0;32mif\u001b[0m \u001b[0mline_search\u001b[0m\u001b[0;34m:\u001b[0m\u001b[0;34m\u001b[0m\u001b[0;34m\u001b[0m\u001b[0m\n\u001b[1;32m    318\u001b[0m             s, x, Fx, Fx_norm_new = _nonlin_line_search(func, x, Fx, dx,\n\u001b[0;32m--> 319\u001b[0;31m                                                         line_search)\n\u001b[0m\u001b[1;32m    320\u001b[0m         \u001b[0;32melse\u001b[0m\u001b[0;34m:\u001b[0m\u001b[0;34m\u001b[0m\u001b[0;34m\u001b[0m\u001b[0m\n\u001b[1;32m    321\u001b[0m             \u001b[0ms\u001b[0m \u001b[0;34m=\u001b[0m \u001b[0;36m1.0\u001b[0m\u001b[0;34m\u001b[0m\u001b[0;34m\u001b[0m\u001b[0m\n",
      "\u001b[0;32m~/.conda/envs/hfcs-fffit/lib/python3.7/site-packages/scipy/optimize/nonlin.py\u001b[0m in \u001b[0;36m_nonlin_line_search\u001b[0;34m(func, x, Fx, dx, search_type, rdiff, smin)\u001b[0m\n\u001b[1;32m    396\u001b[0m     \u001b[0;32melif\u001b[0m \u001b[0msearch_type\u001b[0m \u001b[0;34m==\u001b[0m \u001b[0;34m'armijo'\u001b[0m\u001b[0;34m:\u001b[0m\u001b[0;34m\u001b[0m\u001b[0;34m\u001b[0m\u001b[0m\n\u001b[1;32m    397\u001b[0m         s, phi1 = scalar_search_armijo(phi, tmp_phi[0], -tmp_phi[0],\n\u001b[0;32m--> 398\u001b[0;31m                                        amin=smin)\n\u001b[0m\u001b[1;32m    399\u001b[0m \u001b[0;34m\u001b[0m\u001b[0m\n\u001b[1;32m    400\u001b[0m     \u001b[0;32mif\u001b[0m \u001b[0ms\u001b[0m \u001b[0;32mis\u001b[0m \u001b[0;32mNone\u001b[0m\u001b[0;34m:\u001b[0m\u001b[0;34m\u001b[0m\u001b[0;34m\u001b[0m\u001b[0m\n",
      "\u001b[0;32m~/.conda/envs/hfcs-fffit/lib/python3.7/site-packages/scipy/optimize/linesearch.py\u001b[0m in \u001b[0;36mscalar_search_armijo\u001b[0;34m(phi, phi0, derphi0, c1, alpha0, amin)\u001b[0m\n\u001b[1;32m    702\u001b[0m \u001b[0;34m\u001b[0m\u001b[0m\n\u001b[1;32m    703\u001b[0m     \"\"\"\n\u001b[0;32m--> 704\u001b[0;31m     \u001b[0mphi_a0\u001b[0m \u001b[0;34m=\u001b[0m \u001b[0mphi\u001b[0m\u001b[0;34m(\u001b[0m\u001b[0malpha0\u001b[0m\u001b[0;34m)\u001b[0m\u001b[0;34m\u001b[0m\u001b[0;34m\u001b[0m\u001b[0m\n\u001b[0m\u001b[1;32m    705\u001b[0m     \u001b[0;32mif\u001b[0m \u001b[0mphi_a0\u001b[0m \u001b[0;34m<=\u001b[0m \u001b[0mphi0\u001b[0m \u001b[0;34m+\u001b[0m \u001b[0mc1\u001b[0m\u001b[0;34m*\u001b[0m\u001b[0malpha0\u001b[0m\u001b[0;34m*\u001b[0m\u001b[0mderphi0\u001b[0m\u001b[0;34m:\u001b[0m\u001b[0;34m\u001b[0m\u001b[0;34m\u001b[0m\u001b[0m\n\u001b[1;32m    706\u001b[0m         \u001b[0;32mreturn\u001b[0m \u001b[0malpha0\u001b[0m\u001b[0;34m,\u001b[0m \u001b[0mphi_a0\u001b[0m\u001b[0;34m\u001b[0m\u001b[0;34m\u001b[0m\u001b[0m\n",
      "\u001b[0;32m~/.conda/envs/hfcs-fffit/lib/python3.7/site-packages/scipy/optimize/nonlin.py\u001b[0m in \u001b[0;36mphi\u001b[0;34m(s, store)\u001b[0m\n\u001b[1;32m    379\u001b[0m             \u001b[0;32mreturn\u001b[0m \u001b[0mtmp_phi\u001b[0m\u001b[0;34m[\u001b[0m\u001b[0;36m0\u001b[0m\u001b[0;34m]\u001b[0m\u001b[0;34m\u001b[0m\u001b[0;34m\u001b[0m\u001b[0m\n\u001b[1;32m    380\u001b[0m         \u001b[0mxt\u001b[0m \u001b[0;34m=\u001b[0m \u001b[0mx\u001b[0m \u001b[0;34m+\u001b[0m \u001b[0ms\u001b[0m\u001b[0;34m*\u001b[0m\u001b[0mdx\u001b[0m\u001b[0;34m\u001b[0m\u001b[0;34m\u001b[0m\u001b[0m\n\u001b[0;32m--> 381\u001b[0;31m         \u001b[0mv\u001b[0m \u001b[0;34m=\u001b[0m \u001b[0mfunc\u001b[0m\u001b[0;34m(\u001b[0m\u001b[0mxt\u001b[0m\u001b[0;34m)\u001b[0m\u001b[0;34m\u001b[0m\u001b[0;34m\u001b[0m\u001b[0m\n\u001b[0m\u001b[1;32m    382\u001b[0m         \u001b[0mp\u001b[0m \u001b[0;34m=\u001b[0m \u001b[0m_safe_norm\u001b[0m\u001b[0;34m(\u001b[0m\u001b[0mv\u001b[0m\u001b[0;34m)\u001b[0m\u001b[0;34m**\u001b[0m\u001b[0;36m2\u001b[0m\u001b[0;34m\u001b[0m\u001b[0;34m\u001b[0m\u001b[0m\n\u001b[1;32m    383\u001b[0m         \u001b[0;32mif\u001b[0m \u001b[0mstore\u001b[0m\u001b[0;34m:\u001b[0m\u001b[0;34m\u001b[0m\u001b[0;34m\u001b[0m\u001b[0m\n",
      "\u001b[0;32m~/.conda/envs/hfcs-fffit/lib/python3.7/site-packages/scipy/optimize/nonlin.py\u001b[0m in \u001b[0;36m<lambda>\u001b[0;34m(z)\u001b[0m\n\u001b[1;32m    270\u001b[0m \u001b[0;34m\u001b[0m\u001b[0m\n\u001b[1;32m    271\u001b[0m     \u001b[0mx0\u001b[0m \u001b[0;34m=\u001b[0m \u001b[0m_as_inexact\u001b[0m\u001b[0;34m(\u001b[0m\u001b[0mx0\u001b[0m\u001b[0;34m)\u001b[0m\u001b[0;34m\u001b[0m\u001b[0;34m\u001b[0m\u001b[0m\n\u001b[0;32m--> 272\u001b[0;31m     \u001b[0mfunc\u001b[0m \u001b[0;34m=\u001b[0m \u001b[0;32mlambda\u001b[0m \u001b[0mz\u001b[0m\u001b[0;34m:\u001b[0m \u001b[0m_as_inexact\u001b[0m\u001b[0;34m(\u001b[0m\u001b[0mF\u001b[0m\u001b[0;34m(\u001b[0m\u001b[0m_array_like\u001b[0m\u001b[0;34m(\u001b[0m\u001b[0mz\u001b[0m\u001b[0;34m,\u001b[0m \u001b[0mx0\u001b[0m\u001b[0;34m)\u001b[0m\u001b[0;34m)\u001b[0m\u001b[0;34m)\u001b[0m\u001b[0;34m.\u001b[0m\u001b[0mflatten\u001b[0m\u001b[0;34m(\u001b[0m\u001b[0;34m)\u001b[0m\u001b[0;34m\u001b[0m\u001b[0;34m\u001b[0m\u001b[0m\n\u001b[0m\u001b[1;32m    273\u001b[0m     \u001b[0mx\u001b[0m \u001b[0;34m=\u001b[0m \u001b[0mx0\u001b[0m\u001b[0;34m.\u001b[0m\u001b[0mflatten\u001b[0m\u001b[0;34m(\u001b[0m\u001b[0;34m)\u001b[0m\u001b[0;34m\u001b[0m\u001b[0;34m\u001b[0m\u001b[0m\n\u001b[1;32m    274\u001b[0m \u001b[0;34m\u001b[0m\u001b[0m\n",
      "\u001b[0;32m~/.conda/envs/hfcs-fffit/lib/python3.7/site-packages/scipy/optimize/_root.py\u001b[0m in \u001b[0;36mf\u001b[0;34m(x)\u001b[0m\n\u001b[1;32m    289\u001b[0m         \u001b[0;32melse\u001b[0m\u001b[0;34m:\u001b[0m\u001b[0;34m\u001b[0m\u001b[0;34m\u001b[0m\u001b[0m\n\u001b[1;32m    290\u001b[0m             \u001b[0;32mdef\u001b[0m \u001b[0mf\u001b[0m\u001b[0;34m(\u001b[0m\u001b[0mx\u001b[0m\u001b[0;34m)\u001b[0m\u001b[0;34m:\u001b[0m\u001b[0;34m\u001b[0m\u001b[0;34m\u001b[0m\u001b[0m\n\u001b[0;32m--> 291\u001b[0;31m                 \u001b[0;32mreturn\u001b[0m \u001b[0mfun\u001b[0m\u001b[0;34m(\u001b[0m\u001b[0mx\u001b[0m\u001b[0;34m,\u001b[0m \u001b[0;34m*\u001b[0m\u001b[0margs\u001b[0m\u001b[0;34m)\u001b[0m\u001b[0;34m\u001b[0m\u001b[0;34m\u001b[0m\u001b[0m\n\u001b[0m\u001b[1;32m    292\u001b[0m     \u001b[0;32melse\u001b[0m\u001b[0;34m:\u001b[0m\u001b[0;34m\u001b[0m\u001b[0;34m\u001b[0m\u001b[0m\n\u001b[1;32m    293\u001b[0m         \u001b[0mf\u001b[0m \u001b[0;34m=\u001b[0m \u001b[0mfun\u001b[0m\u001b[0;34m\u001b[0m\u001b[0;34m\u001b[0m\u001b[0m\n",
      "\u001b[0;32m/tmp/ipykernel_2309234/34355864.py\u001b[0m in \u001b[0;36mopt_dist\u001b[0;34m(distance, top_samples, constants, target_num, rand_seed, eval)\u001b[0m\n\u001b[1;32m     27\u001b[0m     \u001b[0;32mwhile\u001b[0m \u001b[0mlen\u001b[0m\u001b[0;34m(\u001b[0m\u001b[0mtop_samples\u001b[0m \u001b[0;34m>\u001b[0m \u001b[0;36m0\u001b[0m\u001b[0;34m)\u001b[0m\u001b[0;34m:\u001b[0m\u001b[0;34m\u001b[0m\u001b[0;34m\u001b[0m\u001b[0m\n\u001b[1;32m     28\u001b[0m         \u001b[0;31m# Shuffle the pareto points\u001b[0m\u001b[0;34m\u001b[0m\u001b[0;34m\u001b[0m\u001b[0;34m\u001b[0m\u001b[0m\n\u001b[0;32m---> 29\u001b[0;31m         \u001b[0mtop_samples\u001b[0m \u001b[0;34m=\u001b[0m \u001b[0mtop_samples\u001b[0m\u001b[0;34m.\u001b[0m\u001b[0msample\u001b[0m\u001b[0;34m(\u001b[0m\u001b[0mfrac\u001b[0m\u001b[0;34m=\u001b[0m\u001b[0;36m1\u001b[0m\u001b[0;34m)\u001b[0m\u001b[0;34m\u001b[0m\u001b[0;34m\u001b[0m\u001b[0m\n\u001b[0m\u001b[1;32m     30\u001b[0m         \u001b[0mnew_points\u001b[0m \u001b[0;34m=\u001b[0m \u001b[0mnew_points\u001b[0m\u001b[0;34m.\u001b[0m\u001b[0mappend\u001b[0m\u001b[0;34m(\u001b[0m\u001b[0mtop_samples\u001b[0m\u001b[0;34m.\u001b[0m\u001b[0miloc\u001b[0m\u001b[0;34m[\u001b[0m\u001b[0;34m[\u001b[0m\u001b[0;36m0\u001b[0m\u001b[0;34m]\u001b[0m\u001b[0;34m]\u001b[0m\u001b[0;34m)\u001b[0m\u001b[0;34m\u001b[0m\u001b[0;34m\u001b[0m\u001b[0m\n\u001b[1;32m     31\u001b[0m         \u001b[0;31m# Remove anything within distance\u001b[0m\u001b[0;34m\u001b[0m\u001b[0;34m\u001b[0m\u001b[0;34m\u001b[0m\u001b[0m\n",
      "\u001b[0;32m~/.conda/envs/hfcs-fffit/lib/python3.7/site-packages/pandas/core/generic.py\u001b[0m in \u001b[0;36msample\u001b[0;34m(self, n, frac, replace, weights, random_state, axis, ignore_index)\u001b[0m\n\u001b[1;32m   5363\u001b[0m             )\n\u001b[1;32m   5364\u001b[0m \u001b[0;34m\u001b[0m\u001b[0m\n\u001b[0;32m-> 5365\u001b[0;31m         \u001b[0mlocs\u001b[0m \u001b[0;34m=\u001b[0m \u001b[0mrs\u001b[0m\u001b[0;34m.\u001b[0m\u001b[0mchoice\u001b[0m\u001b[0;34m(\u001b[0m\u001b[0maxis_length\u001b[0m\u001b[0;34m,\u001b[0m \u001b[0msize\u001b[0m\u001b[0;34m=\u001b[0m\u001b[0mn\u001b[0m\u001b[0;34m,\u001b[0m \u001b[0mreplace\u001b[0m\u001b[0;34m=\u001b[0m\u001b[0mreplace\u001b[0m\u001b[0;34m,\u001b[0m \u001b[0mp\u001b[0m\u001b[0;34m=\u001b[0m\u001b[0mweights\u001b[0m\u001b[0;34m)\u001b[0m\u001b[0;34m\u001b[0m\u001b[0;34m\u001b[0m\u001b[0m\n\u001b[0m\u001b[1;32m   5366\u001b[0m         \u001b[0mresult\u001b[0m \u001b[0;34m=\u001b[0m \u001b[0mself\u001b[0m\u001b[0;34m.\u001b[0m\u001b[0mtake\u001b[0m\u001b[0;34m(\u001b[0m\u001b[0mlocs\u001b[0m\u001b[0;34m,\u001b[0m \u001b[0maxis\u001b[0m\u001b[0;34m=\u001b[0m\u001b[0maxis\u001b[0m\u001b[0;34m)\u001b[0m\u001b[0;34m\u001b[0m\u001b[0;34m\u001b[0m\u001b[0m\n\u001b[1;32m   5367\u001b[0m         \u001b[0;32mif\u001b[0m \u001b[0mignore_index\u001b[0m\u001b[0;34m:\u001b[0m\u001b[0;34m\u001b[0m\u001b[0;34m\u001b[0m\u001b[0m\n",
      "\u001b[0;32mmtrand.pyx\u001b[0m in \u001b[0;36mnumpy.random.mtrand.RandomState.choice\u001b[0;34m()\u001b[0m\n",
      "\u001b[0;32m<__array_function__ internals>\u001b[0m in \u001b[0;36mprod\u001b[0;34m(*args, **kwargs)\u001b[0m\n",
      "\u001b[0;32m~/.conda/envs/hfcs-fffit/lib/python3.7/site-packages/numpy/core/fromnumeric.py\u001b[0m in \u001b[0;36mprod\u001b[0;34m(a, axis, dtype, out, keepdims, initial, where)\u001b[0m\n\u001b[1;32m   3050\u001b[0m     \"\"\"\n\u001b[1;32m   3051\u001b[0m     return _wrapreduction(a, np.multiply, 'prod', axis, dtype, out,\n\u001b[0;32m-> 3052\u001b[0;31m                           keepdims=keepdims, initial=initial, where=where)\n\u001b[0m\u001b[1;32m   3053\u001b[0m \u001b[0;34m\u001b[0m\u001b[0m\n\u001b[1;32m   3054\u001b[0m \u001b[0;34m\u001b[0m\u001b[0m\n",
      "\u001b[0;32m~/.conda/envs/hfcs-fffit/lib/python3.7/site-packages/numpy/core/fromnumeric.py\u001b[0m in \u001b[0;36m_wrapreduction\u001b[0;34m(obj, ufunc, method, axis, dtype, out, **kwargs)\u001b[0m\n\u001b[1;32m     84\u001b[0m                 \u001b[0;32mreturn\u001b[0m \u001b[0mreduction\u001b[0m\u001b[0;34m(\u001b[0m\u001b[0maxis\u001b[0m\u001b[0;34m=\u001b[0m\u001b[0maxis\u001b[0m\u001b[0;34m,\u001b[0m \u001b[0mout\u001b[0m\u001b[0;34m=\u001b[0m\u001b[0mout\u001b[0m\u001b[0;34m,\u001b[0m \u001b[0;34m**\u001b[0m\u001b[0mpasskwargs\u001b[0m\u001b[0;34m)\u001b[0m\u001b[0;34m\u001b[0m\u001b[0;34m\u001b[0m\u001b[0m\n\u001b[1;32m     85\u001b[0m \u001b[0;34m\u001b[0m\u001b[0m\n\u001b[0;32m---> 86\u001b[0;31m     \u001b[0;32mreturn\u001b[0m \u001b[0mufunc\u001b[0m\u001b[0;34m.\u001b[0m\u001b[0mreduce\u001b[0m\u001b[0;34m(\u001b[0m\u001b[0mobj\u001b[0m\u001b[0;34m,\u001b[0m \u001b[0maxis\u001b[0m\u001b[0;34m,\u001b[0m \u001b[0mdtype\u001b[0m\u001b[0;34m,\u001b[0m \u001b[0mout\u001b[0m\u001b[0;34m,\u001b[0m \u001b[0;34m**\u001b[0m\u001b[0mpasskwargs\u001b[0m\u001b[0;34m)\u001b[0m\u001b[0;34m\u001b[0m\u001b[0;34m\u001b[0m\u001b[0m\n\u001b[0m\u001b[1;32m     87\u001b[0m \u001b[0;34m\u001b[0m\u001b[0m\n\u001b[1;32m     88\u001b[0m \u001b[0;34m\u001b[0m\u001b[0m\n",
      "\u001b[0;31mKeyboardInterrupt\u001b[0m: "
     ]
    }
   ],
   "source": [
    "args_v = (top_vap ,R143a, target_num, dist_seed)\n",
    "solution_v = optimize.root(opt_dist, dist_guess_v, args = args_v, method = \"broyden1\", options={\"maxiter\": 50})\n",
    "dist_opt_v = solution_v.x\n",
    "new_points_v = opt_dist(dist_opt_v, top_vap, R143a, target_num, rand_seed=dist_seed , eval = True)\n",
    "\n",
    "while int(len(new_points_v)) != int(target_num):\n",
    "    dist_guess_v = dist_opt_v\n",
    "    solution_v = optimize.root(opt_dist, dist_guess_v, args = args_v, method = \"broyden1\", options={'maxiter': 50})\n",
    "    dist_opt_v = solution_v.x\n",
    "    new_points_v = opt_dist(dist_opt_v, top_vap, R143a, target_num, rand_seed=dist_seed , eval = True) \n",
    "    dist_seed += 1\n",
    "    print(\"Trying seed\", dist_seed)\n",
    "    \n",
    "print(\"Optimal Vapor Distance:\",dist_opt_v)"
   ]
  },
  {
   "cell_type": "raw",
   "id": "022eb739",
   "metadata": {},
   "source": [
    "# Save to CSV\n",
    "# new_points.to_csv(csv_path + out_csv_name)\n",
    "csv_path = \"Test/\"\n",
    "iternum=1\n",
    "out_top_liquid_csv_name = \"r143a-density-iter\" + str(iternum ) + \"-liquid-params.csv\"\n",
    "out_top_vapor_csv_name = \"r143a-density-iter\" + str(iternum ) + \"-vapor-params.csv\"\n",
    "print(type(new_points_l))\n",
    "# new_points_l = pd.concat(new_points_l)\n",
    "new_points_l.to_csv(csv_path + out_top_liquid_csv_name)\n",
    "# new_points_v = pd.concat(new_points_v)\n",
    "new_points_v.to_csv(csv_path + out_top_vapor_csv_name)\n",
    "print(new_points_l)"
   ]
  },
  {
   "cell_type": "markdown",
   "id": "17d671ed",
   "metadata": {},
   "source": []
  }
 ],
 "metadata": {
  "kernelspec": {
   "display_name": "Python 3 (ipykernel)",
   "language": "python",
   "name": "python3"
  },
  "language_info": {
   "codemirror_mode": {
    "name": "ipython",
    "version": 3
   },
   "file_extension": ".py",
   "mimetype": "text/x-python",
   "name": "python",
   "nbconvert_exporter": "python",
   "pygments_lexer": "ipython3",
   "version": "3.7.12"
  }
 },
 "nbformat": 4,
 "nbformat_minor": 5
}
