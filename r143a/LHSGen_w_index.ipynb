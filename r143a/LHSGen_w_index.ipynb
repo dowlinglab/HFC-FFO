{
 "cells": [
  {
   "cell_type": "code",
   "execution_count": 14,
   "id": "671e0a81",
   "metadata": {},
   "outputs": [],
   "source": [
    "from scipy.stats import qmc\n",
    "import pandas as pd\n",
    "import csv\n",
    "\n",
    "d= 8 #Number of dimensions\n",
    "n= int(5e5) ## of samples\n",
    "sampler = qmc.LatinHypercube(d)\n",
    "sample = sampler.random(n)\n",
    "sample = pd.DataFrame(sample)\n",
    "sample.columns = ['1','2','3','4','5','6','7','8']\n",
    "sample.set_index('1')\n",
    "\n",
    "filename = 'LHS_'+str(n)+'_x_'+str(d)+'TEST.csv'\n",
    "sample.to_csv(filename, index = True)"
   ]
  },
  {
   "cell_type": "code",
   "execution_count": null,
   "id": "7f632865",
   "metadata": {},
   "outputs": [],
   "source": []
  }
 ],
 "metadata": {
  "kernelspec": {
   "display_name": "Python 3 (ipykernel)",
   "language": "python",
   "name": "python3"
  },
  "language_info": {
   "codemirror_mode": {
    "name": "ipython",
    "version": 3
   },
   "file_extension": ".py",
   "mimetype": "text/x-python",
   "name": "python",
   "nbconvert_exporter": "python",
   "pygments_lexer": "ipython3",
   "version": "3.7.12"
  }
 },
 "nbformat": 4,
 "nbformat_minor": 5
}
